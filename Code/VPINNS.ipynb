{
 "cells": [
  {
   "cell_type": "code",
   "execution_count": 15,
   "id": "464da30c",
   "metadata": {},
   "outputs": [],
   "source": [
    "from matplotlib import rcParams\n",
    "import numpy as np\n",
    "import time\n",
    "import torch\n",
    "from typing import Any, List, Sequence, Union\n",
    "import yaml\n",
    "\n",
    "# Local imports\n",
    "from function_definitions import f, u\n",
    "from Utils.Datatypes.Grid import construct_grid, Grid\n",
    "from Utils.Datatypes.DataSet import DataSet\n",
    "from Utils.test_functions import testfunc_grid_evaluation\n",
    "from Utils.utils import integrate\n",
    "import Utils.Plots as Plots\n",
    "from Utils.utils import validate_cfg\n",
    "from Utils.VPINN import VPINN"
   ]
  },
  {
   "cell_type": "code",
   "execution_count": 16,
   "id": "21840632",
   "metadata": {},
   "outputs": [],
   "source": [
    "# Specify device used to train. Default is the gpu, but torch falls back on the cpu in case cuda is unavailable\n",
    "device = 'cuda' if torch.cuda.is_available() else 'cpu'"
   ]
  },
  {
   "cell_type": "code",
   "execution_count": 17,
   "id": "3dc24bc9",
   "metadata": {},
   "outputs": [],
   "source": [
    "# Load config file\n",
    "with open('config.yml', 'r') as file:\n",
    "    cfg = yaml.safe_load(file)"
   ]
  },
  {
   "cell_type": "code",
   "execution_count": 18,
   "id": "88dfbfcd",
   "metadata": {},
   "outputs": [],
   "source": [
    "# Validate the configuration to prevent cryptic errors\n",
    "validate_cfg(cfg)\n",
    "\n",
    "# Get space parameters from the config\n",
    "dim: int = cfg['space']['dimension']\n",
    "eq_type: str = cfg['PDE']['type']\n",
    "var_form: int = cfg['variational_form']\n",
    "grid_size: Union[int, Sequence[int]] = cfg['space']['grid_size']['x'] if dim == 1 else [\n",
    "    cfg['space']['grid_size']['x'], cfg['space']['grid_size']['y']]\n",
    "grid_boundary: Sequence = cfg['space']['boundary']['x'] if dim == 1 else [cfg['space']['boundary']['x'],\n",
    "                                                                          cfg['space']['boundary']['y']]\n",
    "\n",
    "# Get the neural net architecture from the config\n",
    "n_nodes: int = cfg['architecture']['nodes_per_layer']\n",
    "n_layers: int = cfg['architecture']['layers']\n",
    "architecture: Union[List[int], Any] = [dim] + [n_nodes] * (n_layers + 1) + [1]\n",
    "\n",
    "# Get PDE constants from the config\n",
    "PDE_constants: dict = {'Burger': cfg['PDE']['Burger']['nu'],\n",
    "                       'Helmholtz': cfg['PDE']['Helmholtz']['k'],\n",
    "                       'PorousMedium': cfg['PDE']['PorousMedium']['m']}\n",
    "\n",
    "# Get type and number of test functions in each dimension\n",
    "test_func_type: str = cfg['Test functions']['type']\n",
    "test_func_dim: Union[int, Sequence[int]] = cfg['Test functions']['N_test_functions']['x'] if dim == 1 else [\n",
    "    cfg['Test functions']['N_test_functions']['x'], cfg['Test functions']['N_test_functions']['y']]\n",
    "n_test_funcs: int = test_func_dim if dim == 1 else test_func_dim[0] * test_func_dim[1]"
   ]
  },
  {
   "cell_type": "code",
   "execution_count": 19,
   "id": "b2ec6f53",
   "metadata": {},
   "outputs": [
    {
     "name": "stdout",
     "output_type": "stream",
     "text": [
      "Constructing grid ...\n"
     ]
    }
   ],
   "source": [
    "# Construct the grid\n",
    "print(\"Constructing grid ...\")\n",
    "grid: Grid = construct_grid(dim=dim, boundary=grid_boundary, grid_size=grid_size,\n",
    "                            as_tensor=True, requires_grad=False, requires_normals=(var_form >= 2))"
   ]
  },
  {
   "cell_type": "code",
   "execution_count": 20,
   "id": "eb3a6d43",
   "metadata": {},
   "outputs": [
    {
     "name": "stdout",
     "output_type": "stream",
     "text": [
      "Evaluating test functions on the grid interior ... \n"
     ]
    }
   ],
   "source": [
    "# Evaluate the test functions and any required derivatives on the grid interior\n",
    "print(\"Evaluating test functions on the grid interior ... \")\n",
    "test_func_vals: DataSet = testfunc_grid_evaluation(grid, test_func_dim,\n",
    "                                                   d=0, where='interior', which=test_func_type)\n",
    "d1test_func_vals: DataSet = testfunc_grid_evaluation(grid, test_func_dim,\n",
    "                                                     d=1, where='interior',\n",
    "                                                     which=test_func_type) if var_form >= 1 else None\n",
    "d2test_func_vals: DataSet = testfunc_grid_evaluation(grid, test_func_dim,\n",
    "                                                     d=2, where='interior',\n",
    "                                                     which=test_func_type) if var_form >= 2 else None\n",
    "\n",
    "# Evaluate the test functions on the grid boundary\n",
    "d1test_func_vals_bd: DataSet = testfunc_grid_evaluation(grid, test_func_dim,\n",
    "                                                        d=1, where='boundary',\n",
    "                                                        which=test_func_type) if var_form >= 2 else None"
   ]
  },
  {
   "cell_type": "code",
   "execution_count": 21,
   "id": "c719579e",
   "metadata": {},
   "outputs": [],
   "source": [
    "# The weight function for the test functions. Takes an index or a tuple of indices\n",
    "# TO DO: this should be done more carefully\n",
    "if cfg['Test functions']['weighting']:\n",
    "    weight_function = lambda x: 2 ** (-x[0]) * 2 ** (-x[1]) if dim == 2 else 2 ** (-x)\n",
    "else:\n",
    "    weight_function = lambda x: 1"
   ]
  },
  {
   "cell_type": "code",
   "execution_count": 22,
   "id": "537ac99b",
   "metadata": {},
   "outputs": [
    {
     "name": "stdout",
     "output_type": "stream",
     "text": [
      "Integrating test functions ...\n"
     ]
    }
   ],
   "source": [
    "# Integrate the external function over the grid against all the test functions.\n",
    "# This will be used to calculate the variational loss; this step is costly and only needs to be done once.\n",
    "print(\"Integrating test functions ...\")\n",
    "f_integrated: DataSet = DataSet(coords=test_func_vals.coords,\n",
    "                                data=[integrate(f(grid.interior), test_func_vals.data[i], domain_volume=grid.volume)\n",
    "                                      for i in range(n_test_funcs)],\n",
    "                                as_tensor=True,\n",
    "                                requires_grad=False)"
   ]
  },
  {
   "cell_type": "code",
   "execution_count": 23,
   "id": "f0526465",
   "metadata": {},
   "outputs": [],
   "source": [
    "# Instantiate the model class\n",
    "model: VPINN = VPINN(architecture, eq_type, var_form,\n",
    "                     pde_constants=PDE_constants,\n",
    "                     learning_rate=cfg['learning_rate'],\n",
    "                     activation_func=torch.relu).to(device)"
   ]
  },
  {
   "cell_type": "code",
   "execution_count": 24,
   "id": "893fa112",
   "metadata": {},
   "outputs": [],
   "source": [
    "# Turn on tracking for the grid interior, on which the variational loss is calculated\n",
    "grid.interior.requires_grad = True"
   ]
  },
  {
   "cell_type": "code",
   "execution_count": 25,
   "id": "fd25e90d",
   "metadata": {},
   "outputs": [
    {
     "name": "stdout",
     "output_type": "stream",
     "text": [
      "Generating training data ...\n"
     ]
    }
   ],
   "source": [
    "# Prepare the training data. The training data consists of the explicit solution of the function on the boundary.\n",
    "# For the Burgers equation, training data is the initial data given\n",
    "# on the lower temporal boundary.\n",
    "print(\"Generating training data ...\")\n",
    "if eq_type in ['Burger', 'PorousMedium']:\n",
    "    training_data: DataSet = DataSet(coords=grid.lower_boundary, data=u(grid.lower_boundary), as_tensor=True,\n",
    "                                     requires_grad=False)\n",
    "else:\n",
    "    training_data: DataSet = DataSet(coords=grid.boundary, data=u(grid.boundary), as_tensor=True,\n",
    "                                     requires_grad=False)"
   ]
  },
  {
   "cell_type": "code",
   "execution_count": 26,
   "id": "3c9f3acc",
   "metadata": {},
   "outputs": [
    {
     "name": "stdout",
     "output_type": "stream",
     "text": [
      "Commencing training ...\n",
      "Iteration 0: total loss: 0.7376513481140137, loss_b: 0.7217639684677124, loss_v: 0.015887374058365822\n",
      "Iteration 100: total loss: 0.24537800252437592, loss_b: 0.24334731698036194, loss_v: 0.0020306850783526897\n",
      "Iteration 200: total loss: 0.09361223131418228, loss_b: 0.08260098844766617, loss_v: 0.011011243797838688\n",
      "Iteration 300: total loss: 0.049080681055784225, loss_b: 0.03610605746507645, loss_v: 0.012974624522030354\n",
      "Iteration 400: total loss: 0.02947559393942356, loss_b: 0.015488381497561932, loss_v: 0.01398721244186163\n",
      "Iteration 500: total loss: 0.02239280939102173, loss_b: 0.008520281873643398, loss_v: 0.013872526586055756\n",
      "Iteration 600: total loss: 0.01705249212682247, loss_b: 0.005516441073268652, loss_v: 0.011536050587892532\n",
      "Iteration 700: total loss: 0.010915671475231647, loss_b: 0.0037182874511927366, loss_v: 0.007197383791208267\n",
      "Iteration 800: total loss: 0.007460371125489473, loss_b: 0.001916392589919269, loss_v: 0.005543978419154882\n",
      "Iteration 900: total loss: 0.005997741594910622, loss_b: 0.0013552914606407285, loss_v: 0.004642450250685215\n",
      "Iteration 1000: total loss: 0.005395146086812019, loss_b: 0.0012000701390206814, loss_v: 0.004195075947791338\n",
      "Iteration 1100: total loss: 0.004863389767706394, loss_b: 0.000978962518274784, loss_v: 0.00388442724943161\n",
      "Iteration 1200: total loss: 0.003701660316437483, loss_b: 0.0006230404251255095, loss_v: 0.0030786199495196342\n",
      "Iteration 1300: total loss: 0.0016701639397069812, loss_b: 0.0003082391631323844, loss_v: 0.0013619248056784272\n",
      "Iteration 1400: total loss: 0.0011582019506022334, loss_b: 0.00020067254081368446, loss_v: 0.000957529409788549\n",
      "Iteration 1500: total loss: 0.0009178676991723478, loss_b: 0.00016562860400881618, loss_v: 0.0007522390806116164\n",
      "Iteration 1600: total loss: 0.0007458234904333949, loss_b: 0.00013923078950028867, loss_v: 0.000606592686381191\n",
      "Iteration 1700: total loss: 0.0007317792042158544, loss_b: 0.0001431165001122281, loss_v: 0.0005886626895517111\n",
      "Iteration 1800: total loss: 0.0005352503503672779, loss_b: 0.00012738601071760058, loss_v: 0.0004078643396496773\n",
      "Iteration 1900: total loss: 0.0005817615892738104, loss_b: 0.00013404821220319718, loss_v: 0.00044771339162252843\n",
      "Iteration 2000: total loss: 0.0004100634250789881, loss_b: 0.0001239405246451497, loss_v: 0.00028612290043383837\n",
      "Iteration 2100: total loss: 0.0005005496786907315, loss_b: 0.00016113418678287417, loss_v: 0.00033941547735594213\n",
      "Iteration 2200: total loss: 0.000311286305077374, loss_b: 0.00011457451910246164, loss_v: 0.00019671180052682757\n",
      "Iteration 2300: total loss: 0.0003104470088146627, loss_b: 0.00010226656013401225, loss_v: 0.00020818045595660806\n",
      "Iteration 2400: total loss: 0.00022773683303967118, loss_b: 8.919357787817717e-05, loss_v: 0.00013854325516149402\n",
      "Iteration 2500: total loss: 0.00023295941355172545, loss_b: 9.862810838967562e-05, loss_v: 0.00013433130516204983\n",
      "Iteration 2600: total loss: 0.00018810141773428768, loss_b: 8.165434701368213e-05, loss_v: 0.00010644707072060555\n",
      "Iteration 2700: total loss: 0.00016688043251633644, loss_b: 7.821039616828784e-05, loss_v: 8.867002907209098e-05\n",
      "Iteration 2800: total loss: 0.0001545391569379717, loss_b: 7.55375949665904e-05, loss_v: 7.90015619713813e-05\n",
      "Iteration 2900: total loss: 0.00014430235023610294, loss_b: 7.322135206777602e-05, loss_v: 7.10809908923693e-05\n",
      "Iteration 3000: total loss: 0.0001595615758560598, loss_b: 7.952057057991624e-05, loss_v: 8.004099800018594e-05\n",
      "Iteration 3100: total loss: 0.000128184532513842, loss_b: 6.898702122271061e-05, loss_v: 5.919750401517376e-05\n",
      "Iteration 3200: total loss: 0.0001223015133291483, loss_b: 6.758543895557523e-05, loss_v: 5.471606709761545e-05\n",
      "Iteration 3300: total loss: 0.00014396928600035608, loss_b: 6.801891868235543e-05, loss_v: 7.595036004204303e-05\n",
      "Iteration 3400: total loss: 0.00011277715384494513, loss_b: 6.465832120738924e-05, loss_v: 4.81188326375559e-05\n",
      "Iteration 3500: total loss: 0.00022335733228828758, loss_b: 7.256939716171473e-05, loss_v: 0.00015078793512657285\n",
      "Iteration 3600: total loss: 0.00010495469177840278, loss_b: 6.244055111892521e-05, loss_v: 4.251414065947756e-05\n",
      "Iteration 3700: total loss: 0.00010149407899007201, loss_b: 6.137072341516614e-05, loss_v: 4.012335557490587e-05\n",
      "Iteration 3800: total loss: 9.877877891995013e-05, loss_b: 6.016645420459099e-05, loss_v: 3.861232107738033e-05\n",
      "Iteration 3900: total loss: 9.532595868222415e-05, loss_b: 5.904138015466742e-05, loss_v: 3.6284574889577925e-05\n",
      "Iteration 4000: total loss: 9.216494800057262e-05, loss_b: 5.791626972495578e-05, loss_v: 3.424867463763803e-05\n",
      "Iteration 4100: total loss: 0.00032238458516076207, loss_b: 6.95426861057058e-05, loss_v: 0.00025284188450314105\n",
      "Iteration 4200: total loss: 9.416162356501445e-05, loss_b: 5.91970601817593e-05, loss_v: 3.4964563383255154e-05\n",
      "Iteration 4300: total loss: 8.346348477061838e-05, loss_b: 5.485603105626069e-05, loss_v: 2.860745371435769e-05\n",
      "Iteration 4400: total loss: 8.090713527053595e-05, loss_b: 5.3863048378843814e-05, loss_v: 2.7044088710681535e-05\n",
      "Iteration 4500: total loss: 7.980612281244248e-05, loss_b: 5.294990478432737e-05, loss_v: 2.6856216209125705e-05\n",
      "Iteration 4600: total loss: 8.03292787168175e-05, loss_b: 5.174237230676226e-05, loss_v: 2.8586910048034042e-05\n",
      "Iteration 4700: total loss: 7.30441533960402e-05, loss_b: 5.030141255701892e-05, loss_v: 2.2742744477000087e-05\n",
      "Iteration 4800: total loss: 7.184178684838116e-05, loss_b: 4.919848288409412e-05, loss_v: 2.2643303964287043e-05\n",
      "Iteration 4900: total loss: 6.941628089407459e-05, loss_b: 4.821374386665411e-05, loss_v: 2.120253884640988e-05\n",
      "Iteration 5000: total loss: 0.00011695550347212702, loss_b: 4.893261211691424e-05, loss_v: 6.802289135521278e-05\n",
      "Iteration 5100: total loss: 6.596650928258896e-05, loss_b: 4.6635705075459555e-05, loss_v: 1.933080238814e-05\n",
      "Iteration 5200: total loss: 8.527171303285286e-05, loss_b: 4.7386020014528185e-05, loss_v: 3.788569301832467e-05\n",
      "Iteration 5300: total loss: 9.149721881840378e-05, loss_b: 4.669850750360638e-05, loss_v: 4.4798707676818594e-05\n",
      "Iteration 5400: total loss: 6.196303729666397e-05, loss_b: 4.474379966268316e-05, loss_v: 1.7219239452970214e-05\n",
      "Iteration 5500: total loss: 6.131205009296536e-05, loss_b: 4.39009781985078e-05, loss_v: 1.7411071894457564e-05\n",
      "Iteration 5600: total loss: 5.937149762758054e-05, loss_b: 4.3015821574954316e-05, loss_v: 1.6355676052626222e-05\n",
      "Iteration 5700: total loss: 0.0001455688034184277, loss_b: 4.889637784799561e-05, loss_v: 9.667241829447448e-05\n",
      "Iteration 5800: total loss: 6.602800567634404e-05, loss_b: 4.231273487675935e-05, loss_v: 2.371526716160588e-05\n",
      "Iteration 5900: total loss: 5.699373286915943e-05, loss_b: 4.15853901358787e-05, loss_v: 1.5408344552270137e-05\n",
      "Iteration 6000: total loss: 5.614511246676557e-05, loss_b: 4.087308479938656e-05, loss_v: 1.5272027667379007e-05\n",
      "Iteration 6100: total loss: 0.00010885726806009188, loss_b: 5.229530142969452e-05, loss_v: 5.6561966630397364e-05\n",
      "Iteration 6200: total loss: 5.6598866649437696e-05, loss_b: 3.997292878921144e-05, loss_v: 1.662593786022626e-05\n",
      "Iteration 6300: total loss: 5.266902007861063e-05, loss_b: 3.924150951206684e-05, loss_v: 1.3427512385533191e-05\n",
      "Iteration 6400: total loss: 5.160396540304646e-05, loss_b: 3.887369894073345e-05, loss_v: 1.2730264643323608e-05\n",
      "Iteration 6500: total loss: 5.080871778773144e-05, loss_b: 3.841879515675828e-05, loss_v: 1.2389920811983757e-05\n",
      "Iteration 6600: total loss: 5.197745485929772e-05, loss_b: 3.846811523544602e-05, loss_v: 1.3509337804862298e-05\n",
      "Iteration 6700: total loss: 5.188171417103149e-05, loss_b: 3.803356230491772e-05, loss_v: 1.3848152775608469e-05\n",
      "Iteration 6800: total loss: 8.988332410808653e-05, loss_b: 3.826667307293974e-05, loss_v: 5.1616654673125595e-05\n",
      "Iteration 6900: total loss: 9.539758320897818e-05, loss_b: 3.973769344156608e-05, loss_v: 5.56598934053909e-05\n",
      "Iteration 7000: total loss: 6.142739584902301e-05, loss_b: 4.1521332605043426e-05, loss_v: 1.9906063243979588e-05\n",
      "Training completed in 33.605 seconds.\n"
     ]
    }
   ],
   "source": [
    "# Train the model\n",
    "print(\"Commencing training ...\")\n",
    "b_weight, v_weight = cfg['boundary_loss_weight'], cfg['variational_loss_weight']\n",
    "start_time = time.time()\n",
    "for it in range(cfg['N_iterations'] + 1):\n",
    "\n",
    "    model.optimizer.zero_grad()\n",
    "\n",
    "    # Calculate the loss\n",
    "    loss_b = model.boundary_loss(training_data)\n",
    "    loss_v = model.variational_loss(grid, f_integrated, test_func_vals, d1test_func_vals, d2test_func_vals,\n",
    "                                    d1test_func_vals_bd, weight_function)\n",
    "    loss = b_weight * loss_b + v_weight * loss_v\n",
    "    loss.backward()\n",
    "\n",
    "    # Adjust the model parameters\n",
    "    model.optimizer.step()\n",
    "\n",
    "    # Track loss values\n",
    "    loss_glob, loss_b_glob, loss_v_glob = loss.item(), loss_b.item(), loss_v.item()\n",
    "\n",
    "    if it % 10 == 0:\n",
    "        model.update_loss_tracker(it, loss_glob, loss_b_glob, loss_v_glob)\n",
    "    if it % 100 == 0:\n",
    "        print(f\"Iteration {it}: total loss: {loss_glob}, loss_b: {loss_b_glob}, loss_v: {loss_v_glob}\")\n",
    "\n",
    "    del loss\n",
    "\n",
    "print(f\"Training completed in {np.around(time.time() - start_time, 3)} seconds.\")"
   ]
  },
  {
   "cell_type": "code",
   "execution_count": 27,
   "id": "f343d9c1",
   "metadata": {},
   "outputs": [
    {
     "name": "stdout",
     "output_type": "stream",
     "text": [
      "Plotting ... \n"
     ]
    }
   ],
   "source": [
    "# Plot the results\n",
    "print(\"Plotting ... \")\n",
    "rcParams.update(cfg['plots']['rcParams'])\n",
    "\n",
    "# Generate the plot grid, which may be finer than the training grid\n",
    "plot_res = cfg['plots']['plot_resolution']['x'] if dim == 1 else [cfg['plots']['plot_resolution']['x'],\n",
    "                                                                  cfg['plots']['plot_resolution']['y']]\n",
    "plot_grid: Grid = construct_grid(dim=dim, boundary=grid_boundary, grid_size=plot_res,\n",
    "                                 requires_grad=False)"
   ]
  },
  {
   "cell_type": "code",
   "execution_count": 28,
   "id": "7d8cf03e",
   "metadata": {},
   "outputs": [
    {
     "name": "stdout",
     "output_type": "stream",
     "text": [
      "Done.\n"
     ]
    }
   ],
   "source": [
    "# Get the model predictions on the plotting grid. Turn off tracking for the prediction data.\n",
    "predictions = model.forward(plot_grid.data).detach()\n",
    "\n",
    "# Plot an animation of the predictions\n",
    "if grid.dim == 2 and cfg['plots']['plot_animation']:\n",
    "    Plots.animate(plot_grid, predictions)\n",
    "\n",
    "# Plot predicted vs actual values\n",
    "Plots.plot_prediction(cfg, plot_grid, predictions, model.loss_tracker, grid_shape=plot_res,\n",
    "                      plot_info_box=cfg['plots']['plot_info_box'])\n",
    "\n",
    "# Plot loss over time\n",
    "Plots.plot_loss(model.loss_tracker, write_data=cfg['plots']['write_loss_data'])\n",
    "\n",
    "# Plot test functions\n",
    "# Plots.plot_test_functions(plot_grid, order=min(6, n_test_funcs), d=1, which=test_func_type)\n",
    "\n",
    "# Save the config\n",
    "Plots.write_config(cfg)\n",
    "\n",
    "print(\"Done.\")"
   ]
  },
  {
   "cell_type": "code",
   "execution_count": null,
   "id": "93108b5c",
   "metadata": {},
   "outputs": [],
   "source": []
  }
 ],
 "metadata": {
  "kernelspec": {
   "display_name": "env_tf",
   "language": "python",
   "name": "env_tf"
  },
  "language_info": {
   "codemirror_mode": {
    "name": "ipython",
    "version": 3
   },
   "file_extension": ".py",
   "mimetype": "text/x-python",
   "name": "python",
   "nbconvert_exporter": "python",
   "pygments_lexer": "ipython3",
   "version": "3.8.12"
  }
 },
 "nbformat": 4,
 "nbformat_minor": 5
}
